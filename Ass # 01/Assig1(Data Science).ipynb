{
 "cells": [
  {
   "cell_type": "code",
   "execution_count": 1,
   "id": "dffd090d",
   "metadata": {},
   "outputs": [
    {
     "name": "stdout",
     "output_type": "stream",
     "text": [
      "Twinkle, twinkle, little star,\n",
      "         How I wonder what you are!\n",
      "                 Up above the world so high,\n",
      "                 Like a diamond in the sky.\n",
      "Twinkle, twinkle, little star,\n",
      "         How I wonder what you are\n"
     ]
    }
   ],
   "source": [
    "# Q no 1 : Write a Python program to print the following string in a specific format.\n",
    "\n",
    "print(\"Twinkle, twinkle, little star,\\n         How I wonder what you are!\\n                 Up above the world so high,\\n                 Like a diamond in the sky.\\nTwinkle, twinkle, little star,\\n         How I wonder what you are\");"
   ]
  },
  {
   "cell_type": "code",
   "execution_count": 2,
   "id": "d6622ae6",
   "metadata": {},
   "outputs": [
    {
     "name": "stdout",
     "output_type": "stream",
     "text": [
      "3.8.8 (default, Apr 13 2021, 15:08:03) [MSC v.1916 64 bit (AMD64)]\n"
     ]
    }
   ],
   "source": [
    "# Q no 2 : write a Python program to get the Python version you are using.\n",
    "\n",
    "import sys\n",
    "print(sys.version);"
   ]
  },
  {
   "cell_type": "code",
   "execution_count": 3,
   "id": "eee230b9",
   "metadata": {},
   "outputs": [
    {
     "name": "stdout",
     "output_type": "stream",
     "text": [
      "Current date and time : \n",
      "2022-01-02 20:48:33\n"
     ]
    }
   ],
   "source": [
    "# Q no 3: Write a Python program to display the current date and time.\n",
    "import datetime\n",
    "now = datetime.datetime.now()\n",
    "print (\"Current date and time : \")\n",
    "print (now.strftime(\"%Y-%m-%d %H:%M:%S\"))"
   ]
  },
  {
   "cell_type": "code",
   "execution_count": 4,
   "id": "e0a228ab",
   "metadata": {},
   "outputs": [
    {
     "name": "stdout",
     "output_type": "stream",
     "text": [
      "please type the radius of the circle2\n",
      "Area of the circle is: 12.56\n"
     ]
    }
   ],
   "source": [
    "# Q no 4 : Write a Python program which accepts the radius of a circle from the user and compute the area.\n",
    "pi= 3.14;\n",
    "r=int(input(\"please type the radius of the circle\"));\n",
    "Area= pi*(r**2);\n",
    "print(\"Area of the circle is:\" ,Area);"
   ]
  },
  {
   "cell_type": "code",
   "execution_count": 5,
   "id": "0c33f74e",
   "metadata": {},
   "outputs": [
    {
     "name": "stdout",
     "output_type": "stream",
     "text": [
      " Enter your first name: Aamir\n",
      " Enter your last name: Zaib\n",
      "Reverse Order of name Zaib Aamir\n"
     ]
    }
   ],
   "source": [
    "# Q no 5 : Write a Python program which accepts the user's first and last name and print them inreverse order with a space between them.\n",
    "First_Name = input(\" Enter your first name: \");\n",
    "Last_Name = input(\" Enter your last name: \");\n",
    "print(\"Reverse Order of name\",Last_Name + \" \" + First_Name);"
   ]
  },
  {
   "cell_type": "code",
   "execution_count": 16,
   "id": "657ef81e",
   "metadata": {},
   "outputs": [
    {
     "name": "stdout",
     "output_type": "stream",
     "text": [
      "Enter first number : 5\n",
      "Enter second number: 6\n",
      "Addition of two numbers are: 11\n"
     ]
    }
   ],
   "source": [
    "#Q no 6 : Write a python program which takes two inputs from user and print them addition.\n",
    "X=int(input(\"Enter first number : \"));\n",
    "Y=int(input(\"Enter second number: \"));\n",
    "Z=X + Y ;\n",
    "print(\"Addition of two numbers are:\",Z);"
   ]
  }
 ],
 "metadata": {
  "kernelspec": {
   "display_name": "Python 3",
   "language": "python",
   "name": "python3"
  },
  "language_info": {
   "codemirror_mode": {
    "name": "ipython",
    "version": 3
   },
   "file_extension": ".py",
   "mimetype": "text/x-python",
   "name": "python",
   "nbconvert_exporter": "python",
   "pygments_lexer": "ipython3",
   "version": "3.8.8"
  }
 },
 "nbformat": 4,
 "nbformat_minor": 5
}
